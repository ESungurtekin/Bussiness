{
 "cells": [
  {
   "cell_type": "code",
   "execution_count": 57,
   "id": "4537bd6d",
   "metadata": {
    "scrolled": false
   },
   "outputs": [
    {
     "name": "stderr",
     "output_type": "stream",
     "text": [
      "C:\\Users\\90551\\AppData\\Local\\Temp\\ipykernel_9740\\3614727638.py:2: DtypeWarning: Columns (1,2,3,4,5,6,7,8,9,10,11,12,13,14,15,16,17,18,19,20,21,22,23,24,25,26,27,28,29,30,31,32,33,34,35,36,37,38,39,40,41,42,43,44,45,46,47,48,49,50,51,52,53,54,55,56,57,58,59,60,61,62,63,64,65,66,67,68,69,70,71,72,73,74,75,76,77,78,79,80,81,82,83,84,85,86,87,88,89,90,91,92,93,94,95,96,97,98,99,100,101,102,103,104,105,106,107,108,109,110,111,112,113,114,115,116,117,118,119,120,121,122,123,124,125,126,127,128,129,130,131,132,133,134,135,136,137,138,139,140,141,142,143,144,145,146) have mixed types. Specify dtype option on import or set low_memory=False.\n",
      "  df = pd.read_csv('assignment.txt', sep=\"\\t\", header=None)\n"
     ]
    }
   ],
   "source": [
    "import pandas as pd\n",
    "df = pd.read_csv('assignment.txt', sep=\"\\t\", header=None)"
   ]
  },
  {
   "cell_type": "code",
   "execution_count": 58,
   "id": "dbd34d10",
   "metadata": {
    "scrolled": false
   },
   "outputs": [
    {
     "data": {
      "text/html": [
       "<div>\n",
       "<style scoped>\n",
       "    .dataframe tbody tr th:only-of-type {\n",
       "        vertical-align: middle;\n",
       "    }\n",
       "\n",
       "    .dataframe tbody tr th {\n",
       "        vertical-align: top;\n",
       "    }\n",
       "\n",
       "    .dataframe thead th {\n",
       "        text-align: right;\n",
       "    }\n",
       "</style>\n",
       "<table border=\"1\" class=\"dataframe\">\n",
       "  <thead>\n",
       "    <tr style=\"text-align: right;\">\n",
       "      <th></th>\n",
       "      <th>0</th>\n",
       "      <th>1</th>\n",
       "      <th>2</th>\n",
       "      <th>3</th>\n",
       "      <th>4</th>\n",
       "      <th>5</th>\n",
       "      <th>6</th>\n",
       "      <th>7</th>\n",
       "      <th>8</th>\n",
       "      <th>9</th>\n",
       "      <th>...</th>\n",
       "      <th>137</th>\n",
       "      <th>138</th>\n",
       "      <th>139</th>\n",
       "      <th>140</th>\n",
       "      <th>141</th>\n",
       "      <th>142</th>\n",
       "      <th>143</th>\n",
       "      <th>144</th>\n",
       "      <th>145</th>\n",
       "      <th>146</th>\n",
       "    </tr>\n",
       "  </thead>\n",
       "  <tbody>\n",
       "    <tr>\n",
       "      <th>0</th>\n",
       "      <td>ID_REF</td>\n",
       "      <td>GSM627071</td>\n",
       "      <td>GSM627072</td>\n",
       "      <td>GSM627073</td>\n",
       "      <td>GSM627074</td>\n",
       "      <td>GSM627075</td>\n",
       "      <td>GSM627076</td>\n",
       "      <td>GSM627077</td>\n",
       "      <td>GSM627078</td>\n",
       "      <td>GSM627079</td>\n",
       "      <td>...</td>\n",
       "      <td>GSM627207</td>\n",
       "      <td>GSM627208</td>\n",
       "      <td>GSM627209</td>\n",
       "      <td>GSM627210</td>\n",
       "      <td>GSM627211</td>\n",
       "      <td>GSM627212</td>\n",
       "      <td>GSM627213</td>\n",
       "      <td>GSM627214</td>\n",
       "      <td>GSM627215</td>\n",
       "      <td>GSM627216</td>\n",
       "    </tr>\n",
       "    <tr>\n",
       "      <th>1</th>\n",
       "      <td>1007_s_at</td>\n",
       "      <td>179.823156</td>\n",
       "      <td>159.9802499</td>\n",
       "      <td>159.9002074</td>\n",
       "      <td>113.3585186</td>\n",
       "      <td>145.8010198</td>\n",
       "      <td>123.598892</td>\n",
       "      <td>127.3115059</td>\n",
       "      <td>138.5624947</td>\n",
       "      <td>108.829661</td>\n",
       "      <td>...</td>\n",
       "      <td>175.1307975</td>\n",
       "      <td>165.27996</td>\n",
       "      <td>148.7254775</td>\n",
       "      <td>175.3297496</td>\n",
       "      <td>182.8915994</td>\n",
       "      <td>200.3671237</td>\n",
       "      <td>127.0146413</td>\n",
       "      <td>165.0818842</td>\n",
       "      <td>133.7481383</td>\n",
       "      <td>129.63343</td>\n",
       "    </tr>\n",
       "    <tr>\n",
       "      <th>2</th>\n",
       "      <td>1053_at</td>\n",
       "      <td>118.4835531</td>\n",
       "      <td>135.384522</td>\n",
       "      <td>133.0696727</td>\n",
       "      <td>133.8482067</td>\n",
       "      <td>96.86039626</td>\n",
       "      <td>133.6307299</td>\n",
       "      <td>184.4833748</td>\n",
       "      <td>126.2090015</td>\n",
       "      <td>150.1325511</td>\n",
       "      <td>...</td>\n",
       "      <td>157.0347461</td>\n",
       "      <td>164.8333093</td>\n",
       "      <td>104.8260158</td>\n",
       "      <td>134.9345512</td>\n",
       "      <td>87.54931587</td>\n",
       "      <td>154.3765701</td>\n",
       "      <td>159.4175885</td>\n",
       "      <td>146.9178624</td>\n",
       "      <td>166.4390328</td>\n",
       "      <td>155.0053284</td>\n",
       "    </tr>\n",
       "    <tr>\n",
       "      <th>3</th>\n",
       "      <td>117_at</td>\n",
       "      <td>1185.853438</td>\n",
       "      <td>827.1355697</td>\n",
       "      <td>894.2751643</td>\n",
       "      <td>1717.030558</td>\n",
       "      <td>798.728842</td>\n",
       "      <td>1142.722987</td>\n",
       "      <td>1649.839537</td>\n",
       "      <td>892.9533517</td>\n",
       "      <td>2597.377511</td>\n",
       "      <td>...</td>\n",
       "      <td>632.6246672</td>\n",
       "      <td>680.7012742</td>\n",
       "      <td>689.4031116</td>\n",
       "      <td>1251.298263</td>\n",
       "      <td>528.7206997</td>\n",
       "      <td>1372.242748</td>\n",
       "      <td>1580.362716</td>\n",
       "      <td>786.1228639</td>\n",
       "      <td>1048.782643</td>\n",
       "      <td>980.4036194</td>\n",
       "    </tr>\n",
       "    <tr>\n",
       "      <th>4</th>\n",
       "      <td>121_at</td>\n",
       "      <td>133.9321958</td>\n",
       "      <td>161.661239</td>\n",
       "      <td>140.2309512</td>\n",
       "      <td>181.7773958</td>\n",
       "      <td>173.5573917</td>\n",
       "      <td>164.4051862</td>\n",
       "      <td>102.9539948</td>\n",
       "      <td>132.2334171</td>\n",
       "      <td>126.4795211</td>\n",
       "      <td>...</td>\n",
       "      <td>161.3467827</td>\n",
       "      <td>188.2254633</td>\n",
       "      <td>131.2816076</td>\n",
       "      <td>201.6479599</td>\n",
       "      <td>184.44719</td>\n",
       "      <td>175.7317426</td>\n",
       "      <td>118.5584762</td>\n",
       "      <td>123.8486215</td>\n",
       "      <td>145.8980712</td>\n",
       "      <td>160.927269</td>\n",
       "    </tr>\n",
       "  </tbody>\n",
       "</table>\n",
       "<p>5 rows × 147 columns</p>\n",
       "</div>"
      ],
      "text/plain": [
       "         0            1            2            3            4            5    \\\n",
       "0     ID_REF    GSM627071    GSM627072    GSM627073    GSM627074    GSM627075   \n",
       "1  1007_s_at   179.823156  159.9802499  159.9002074  113.3585186  145.8010198   \n",
       "2    1053_at  118.4835531   135.384522  133.0696727  133.8482067  96.86039626   \n",
       "3     117_at  1185.853438  827.1355697  894.2751643  1717.030558   798.728842   \n",
       "4     121_at  133.9321958   161.661239  140.2309512  181.7773958  173.5573917   \n",
       "\n",
       "           6            7            8            9    ...          137  \\\n",
       "0    GSM627076    GSM627077    GSM627078    GSM627079  ...    GSM627207   \n",
       "1   123.598892  127.3115059  138.5624947   108.829661  ...  175.1307975   \n",
       "2  133.6307299  184.4833748  126.2090015  150.1325511  ...  157.0347461   \n",
       "3  1142.722987  1649.839537  892.9533517  2597.377511  ...  632.6246672   \n",
       "4  164.4051862  102.9539948  132.2334171  126.4795211  ...  161.3467827   \n",
       "\n",
       "           138          139          140          141          142  \\\n",
       "0    GSM627208    GSM627209    GSM627210    GSM627211    GSM627212   \n",
       "1    165.27996  148.7254775  175.3297496  182.8915994  200.3671237   \n",
       "2  164.8333093  104.8260158  134.9345512  87.54931587  154.3765701   \n",
       "3  680.7012742  689.4031116  1251.298263  528.7206997  1372.242748   \n",
       "4  188.2254633  131.2816076  201.6479599    184.44719  175.7317426   \n",
       "\n",
       "           143          144          145          146  \n",
       "0    GSM627213    GSM627214    GSM627215    GSM627216  \n",
       "1  127.0146413  165.0818842  133.7481383    129.63343  \n",
       "2  159.4175885  146.9178624  166.4390328  155.0053284  \n",
       "3  1580.362716  786.1228639  1048.782643  980.4036194  \n",
       "4  118.5584762  123.8486215  145.8980712   160.927269  \n",
       "\n",
       "[5 rows x 147 columns]"
      ]
     },
     "execution_count": 58,
     "metadata": {},
     "output_type": "execute_result"
    }
   ],
   "source": [
    "df.head()"
   ]
  },
  {
   "cell_type": "code",
   "execution_count": 59,
   "id": "df4e5a83",
   "metadata": {},
   "outputs": [],
   "source": [
    "\n",
    "df.columns=list(df.loc[0,:])\n",
    "\n",
    "cols=list(df.columns)\n",
    "df=df.drop(0)"
   ]
  },
  {
   "cell_type": "code",
   "execution_count": null,
   "id": "d84d844e",
   "metadata": {},
   "outputs": [],
   "source": []
  },
  {
   "cell_type": "code",
   "execution_count": 60,
   "id": "23d60e7e",
   "metadata": {
    "scrolled": true
   },
   "outputs": [
    {
     "data": {
      "text/html": [
       "<div>\n",
       "<style scoped>\n",
       "    .dataframe tbody tr th:only-of-type {\n",
       "        vertical-align: middle;\n",
       "    }\n",
       "\n",
       "    .dataframe tbody tr th {\n",
       "        vertical-align: top;\n",
       "    }\n",
       "\n",
       "    .dataframe thead th {\n",
       "        text-align: right;\n",
       "    }\n",
       "</style>\n",
       "<table border=\"1\" class=\"dataframe\">\n",
       "  <thead>\n",
       "    <tr style=\"text-align: right;\">\n",
       "      <th></th>\n",
       "      <th>ID_REF</th>\n",
       "      <th>GSM627071</th>\n",
       "      <th>GSM627072</th>\n",
       "      <th>GSM627073</th>\n",
       "      <th>GSM627074</th>\n",
       "      <th>GSM627075</th>\n",
       "      <th>GSM627076</th>\n",
       "      <th>GSM627077</th>\n",
       "      <th>GSM627078</th>\n",
       "      <th>GSM627079</th>\n",
       "      <th>...</th>\n",
       "      <th>GSM627207</th>\n",
       "      <th>GSM627208</th>\n",
       "      <th>GSM627209</th>\n",
       "      <th>GSM627210</th>\n",
       "      <th>GSM627211</th>\n",
       "      <th>GSM627212</th>\n",
       "      <th>GSM627213</th>\n",
       "      <th>GSM627214</th>\n",
       "      <th>GSM627215</th>\n",
       "      <th>GSM627216</th>\n",
       "    </tr>\n",
       "  </thead>\n",
       "  <tbody>\n",
       "    <tr>\n",
       "      <th>1</th>\n",
       "      <td>1007_s_at</td>\n",
       "      <td>179.823156</td>\n",
       "      <td>159.9802499</td>\n",
       "      <td>159.9002074</td>\n",
       "      <td>113.3585186</td>\n",
       "      <td>145.8010198</td>\n",
       "      <td>123.598892</td>\n",
       "      <td>127.3115059</td>\n",
       "      <td>138.5624947</td>\n",
       "      <td>108.829661</td>\n",
       "      <td>...</td>\n",
       "      <td>175.1307975</td>\n",
       "      <td>165.27996</td>\n",
       "      <td>148.7254775</td>\n",
       "      <td>175.3297496</td>\n",
       "      <td>182.8915994</td>\n",
       "      <td>200.3671237</td>\n",
       "      <td>127.0146413</td>\n",
       "      <td>165.0818842</td>\n",
       "      <td>133.7481383</td>\n",
       "      <td>129.63343</td>\n",
       "    </tr>\n",
       "    <tr>\n",
       "      <th>2</th>\n",
       "      <td>1053_at</td>\n",
       "      <td>118.4835531</td>\n",
       "      <td>135.384522</td>\n",
       "      <td>133.0696727</td>\n",
       "      <td>133.8482067</td>\n",
       "      <td>96.86039626</td>\n",
       "      <td>133.6307299</td>\n",
       "      <td>184.4833748</td>\n",
       "      <td>126.2090015</td>\n",
       "      <td>150.1325511</td>\n",
       "      <td>...</td>\n",
       "      <td>157.0347461</td>\n",
       "      <td>164.8333093</td>\n",
       "      <td>104.8260158</td>\n",
       "      <td>134.9345512</td>\n",
       "      <td>87.54931587</td>\n",
       "      <td>154.3765701</td>\n",
       "      <td>159.4175885</td>\n",
       "      <td>146.9178624</td>\n",
       "      <td>166.4390328</td>\n",
       "      <td>155.0053284</td>\n",
       "    </tr>\n",
       "    <tr>\n",
       "      <th>3</th>\n",
       "      <td>117_at</td>\n",
       "      <td>1185.853438</td>\n",
       "      <td>827.1355697</td>\n",
       "      <td>894.2751643</td>\n",
       "      <td>1717.030558</td>\n",
       "      <td>798.728842</td>\n",
       "      <td>1142.722987</td>\n",
       "      <td>1649.839537</td>\n",
       "      <td>892.9533517</td>\n",
       "      <td>2597.377511</td>\n",
       "      <td>...</td>\n",
       "      <td>632.6246672</td>\n",
       "      <td>680.7012742</td>\n",
       "      <td>689.4031116</td>\n",
       "      <td>1251.298263</td>\n",
       "      <td>528.7206997</td>\n",
       "      <td>1372.242748</td>\n",
       "      <td>1580.362716</td>\n",
       "      <td>786.1228639</td>\n",
       "      <td>1048.782643</td>\n",
       "      <td>980.4036194</td>\n",
       "    </tr>\n",
       "    <tr>\n",
       "      <th>4</th>\n",
       "      <td>121_at</td>\n",
       "      <td>133.9321958</td>\n",
       "      <td>161.661239</td>\n",
       "      <td>140.2309512</td>\n",
       "      <td>181.7773958</td>\n",
       "      <td>173.5573917</td>\n",
       "      <td>164.4051862</td>\n",
       "      <td>102.9539948</td>\n",
       "      <td>132.2334171</td>\n",
       "      <td>126.4795211</td>\n",
       "      <td>...</td>\n",
       "      <td>161.3467827</td>\n",
       "      <td>188.2254633</td>\n",
       "      <td>131.2816076</td>\n",
       "      <td>201.6479599</td>\n",
       "      <td>184.44719</td>\n",
       "      <td>175.7317426</td>\n",
       "      <td>118.5584762</td>\n",
       "      <td>123.8486215</td>\n",
       "      <td>145.8980712</td>\n",
       "      <td>160.927269</td>\n",
       "    </tr>\n",
       "    <tr>\n",
       "      <th>5</th>\n",
       "      <td>1255_g_at</td>\n",
       "      <td>7.221822691</td>\n",
       "      <td>9.38267309</td>\n",
       "      <td>7.441043743</td>\n",
       "      <td>8.197255694</td>\n",
       "      <td>7.612529955</td>\n",
       "      <td>8.150852731</td>\n",
       "      <td>8.447596934</td>\n",
       "      <td>7.236895804</td>\n",
       "      <td>7.521325846</td>\n",
       "      <td>...</td>\n",
       "      <td>9.350490198</td>\n",
       "      <td>7.826368281</td>\n",
       "      <td>8.221279831</td>\n",
       "      <td>8.310481111</td>\n",
       "      <td>8.119151697</td>\n",
       "      <td>8.268593811</td>\n",
       "      <td>7.263294111</td>\n",
       "      <td>7.076058621</td>\n",
       "      <td>7.856648408</td>\n",
       "      <td>7.611844028</td>\n",
       "    </tr>\n",
       "  </tbody>\n",
       "</table>\n",
       "<p>5 rows × 147 columns</p>\n",
       "</div>"
      ],
      "text/plain": [
       "      ID_REF    GSM627071    GSM627072    GSM627073    GSM627074    GSM627075  \\\n",
       "1  1007_s_at   179.823156  159.9802499  159.9002074  113.3585186  145.8010198   \n",
       "2    1053_at  118.4835531   135.384522  133.0696727  133.8482067  96.86039626   \n",
       "3     117_at  1185.853438  827.1355697  894.2751643  1717.030558   798.728842   \n",
       "4     121_at  133.9321958   161.661239  140.2309512  181.7773958  173.5573917   \n",
       "5  1255_g_at  7.221822691   9.38267309  7.441043743  8.197255694  7.612529955   \n",
       "\n",
       "     GSM627076    GSM627077    GSM627078    GSM627079  ...    GSM627207  \\\n",
       "1   123.598892  127.3115059  138.5624947   108.829661  ...  175.1307975   \n",
       "2  133.6307299  184.4833748  126.2090015  150.1325511  ...  157.0347461   \n",
       "3  1142.722987  1649.839537  892.9533517  2597.377511  ...  632.6246672   \n",
       "4  164.4051862  102.9539948  132.2334171  126.4795211  ...  161.3467827   \n",
       "5  8.150852731  8.447596934  7.236895804  7.521325846  ...  9.350490198   \n",
       "\n",
       "     GSM627208    GSM627209    GSM627210    GSM627211    GSM627212  \\\n",
       "1    165.27996  148.7254775  175.3297496  182.8915994  200.3671237   \n",
       "2  164.8333093  104.8260158  134.9345512  87.54931587  154.3765701   \n",
       "3  680.7012742  689.4031116  1251.298263  528.7206997  1372.242748   \n",
       "4  188.2254633  131.2816076  201.6479599    184.44719  175.7317426   \n",
       "5  7.826368281  8.221279831  8.310481111  8.119151697  8.268593811   \n",
       "\n",
       "     GSM627213    GSM627214    GSM627215    GSM627216  \n",
       "1  127.0146413  165.0818842  133.7481383    129.63343  \n",
       "2  159.4175885  146.9178624  166.4390328  155.0053284  \n",
       "3  1580.362716  786.1228639  1048.782643  980.4036194  \n",
       "4  118.5584762  123.8486215  145.8980712   160.927269  \n",
       "5  7.263294111  7.076058621  7.856648408  7.611844028  \n",
       "\n",
       "[5 rows x 147 columns]"
      ]
     },
     "execution_count": 60,
     "metadata": {},
     "output_type": "execute_result"
    }
   ],
   "source": [
    "df.head()"
   ]
  },
  {
   "cell_type": "markdown",
   "id": "9d2af9b3",
   "metadata": {},
   "source": [
    "- Öznitelik seçim algoritmalarının başlıca faydaları arasında doğruluk artıma, yorumlama kolaylığını artırma, training süresini azaltma gibi faydalar vardır. "
   ]
  },
  {
   "cell_type": "markdown",
   "id": "5bb187d4",
   "metadata": {},
   "source": [
    "- In feature selection alghortims, there are mainly benefits like improved accuracy,ease on interpretation, shorter training times."
   ]
  },
  {
   "cell_type": "markdown",
   "id": "4ed0acd8",
   "metadata": {},
   "source": [
    "Filtreleme metodu, wrapper metod ve gömülü metod gibi yöntemler kullanılır."
   ]
  },
  {
   "cell_type": "markdown",
   "id": "81a104a3",
   "metadata": {},
   "source": [
    "There are methods like filter method, wrapper method and embedded method."
   ]
  },
  {
   "cell_type": "markdown",
   "id": "be2fd3d2",
   "metadata": {},
   "source": [
    "- Öncelikle korelasyon matrisi metodunu deneyelim"
   ]
  },
  {
   "cell_type": "code",
   "execution_count": 61,
   "id": "ce2c0671",
   "metadata": {},
   "outputs": [],
   "source": [
    "df=df.iloc[:,1:].astype(float)"
   ]
  },
  {
   "cell_type": "code",
   "execution_count": 62,
   "id": "deff1705",
   "metadata": {},
   "outputs": [
    {
     "data": {
      "text/plain": [
       "Index(['GSM627071', 'GSM627072', 'GSM627073', 'GSM627074', 'GSM627075',\n",
       "       'GSM627076', 'GSM627077', 'GSM627078', 'GSM627079', 'GSM627080',\n",
       "       ...\n",
       "       'GSM627207', 'GSM627208', 'GSM627209', 'GSM627210', 'GSM627211',\n",
       "       'GSM627212', 'GSM627213', 'GSM627214', 'GSM627215', 'GSM627216'],\n",
       "      dtype='object', length=146)"
      ]
     },
     "execution_count": 62,
     "metadata": {},
     "output_type": "execute_result"
    }
   ],
   "source": [
    "df.columns"
   ]
  },
  {
   "cell_type": "code",
   "execution_count": 64,
   "id": "e38bf502",
   "metadata": {},
   "outputs": [
    {
     "data": {
      "text/html": [
       "<div>\n",
       "<style scoped>\n",
       "    .dataframe tbody tr th:only-of-type {\n",
       "        vertical-align: middle;\n",
       "    }\n",
       "\n",
       "    .dataframe tbody tr th {\n",
       "        vertical-align: top;\n",
       "    }\n",
       "\n",
       "    .dataframe thead th {\n",
       "        text-align: right;\n",
       "    }\n",
       "</style>\n",
       "<table border=\"1\" class=\"dataframe\">\n",
       "  <thead>\n",
       "    <tr style=\"text-align: right;\">\n",
       "      <th></th>\n",
       "      <th>GSM627071</th>\n",
       "      <th>GSM627072</th>\n",
       "      <th>GSM627073</th>\n",
       "      <th>GSM627074</th>\n",
       "      <th>GSM627075</th>\n",
       "      <th>GSM627076</th>\n",
       "      <th>GSM627077</th>\n",
       "      <th>GSM627078</th>\n",
       "      <th>GSM627079</th>\n",
       "      <th>GSM627080</th>\n",
       "      <th>...</th>\n",
       "      <th>GSM627207</th>\n",
       "      <th>GSM627208</th>\n",
       "      <th>GSM627209</th>\n",
       "      <th>GSM627210</th>\n",
       "      <th>GSM627211</th>\n",
       "      <th>GSM627212</th>\n",
       "      <th>GSM627213</th>\n",
       "      <th>GSM627214</th>\n",
       "      <th>GSM627215</th>\n",
       "      <th>GSM627216</th>\n",
       "    </tr>\n",
       "  </thead>\n",
       "  <tbody>\n",
       "    <tr>\n",
       "      <th>1</th>\n",
       "      <td>179.823156</td>\n",
       "      <td>159.980250</td>\n",
       "      <td>159.900207</td>\n",
       "      <td>113.358519</td>\n",
       "      <td>145.801020</td>\n",
       "      <td>123.598892</td>\n",
       "      <td>127.311506</td>\n",
       "      <td>138.562495</td>\n",
       "      <td>108.829661</td>\n",
       "      <td>115.806386</td>\n",
       "      <td>...</td>\n",
       "      <td>175.130797</td>\n",
       "      <td>165.279960</td>\n",
       "      <td>148.725478</td>\n",
       "      <td>175.329750</td>\n",
       "      <td>182.891599</td>\n",
       "      <td>200.367124</td>\n",
       "      <td>127.014641</td>\n",
       "      <td>165.081884</td>\n",
       "      <td>133.748138</td>\n",
       "      <td>129.633430</td>\n",
       "    </tr>\n",
       "    <tr>\n",
       "      <th>2</th>\n",
       "      <td>118.483553</td>\n",
       "      <td>135.384522</td>\n",
       "      <td>133.069673</td>\n",
       "      <td>133.848207</td>\n",
       "      <td>96.860396</td>\n",
       "      <td>133.630730</td>\n",
       "      <td>184.483375</td>\n",
       "      <td>126.209001</td>\n",
       "      <td>150.132551</td>\n",
       "      <td>144.544510</td>\n",
       "      <td>...</td>\n",
       "      <td>157.034746</td>\n",
       "      <td>164.833309</td>\n",
       "      <td>104.826016</td>\n",
       "      <td>134.934551</td>\n",
       "      <td>87.549316</td>\n",
       "      <td>154.376570</td>\n",
       "      <td>159.417588</td>\n",
       "      <td>146.917862</td>\n",
       "      <td>166.439033</td>\n",
       "      <td>155.005328</td>\n",
       "    </tr>\n",
       "    <tr>\n",
       "      <th>3</th>\n",
       "      <td>1185.853438</td>\n",
       "      <td>827.135570</td>\n",
       "      <td>894.275164</td>\n",
       "      <td>1717.030558</td>\n",
       "      <td>798.728842</td>\n",
       "      <td>1142.722987</td>\n",
       "      <td>1649.839537</td>\n",
       "      <td>892.953352</td>\n",
       "      <td>2597.377511</td>\n",
       "      <td>1303.802833</td>\n",
       "      <td>...</td>\n",
       "      <td>632.624667</td>\n",
       "      <td>680.701274</td>\n",
       "      <td>689.403112</td>\n",
       "      <td>1251.298263</td>\n",
       "      <td>528.720700</td>\n",
       "      <td>1372.242748</td>\n",
       "      <td>1580.362716</td>\n",
       "      <td>786.122864</td>\n",
       "      <td>1048.782643</td>\n",
       "      <td>980.403619</td>\n",
       "    </tr>\n",
       "    <tr>\n",
       "      <th>4</th>\n",
       "      <td>133.932196</td>\n",
       "      <td>161.661239</td>\n",
       "      <td>140.230951</td>\n",
       "      <td>181.777396</td>\n",
       "      <td>173.557392</td>\n",
       "      <td>164.405186</td>\n",
       "      <td>102.953995</td>\n",
       "      <td>132.233417</td>\n",
       "      <td>126.479521</td>\n",
       "      <td>139.817778</td>\n",
       "      <td>...</td>\n",
       "      <td>161.346783</td>\n",
       "      <td>188.225463</td>\n",
       "      <td>131.281608</td>\n",
       "      <td>201.647960</td>\n",
       "      <td>184.447190</td>\n",
       "      <td>175.731743</td>\n",
       "      <td>118.558476</td>\n",
       "      <td>123.848621</td>\n",
       "      <td>145.898071</td>\n",
       "      <td>160.927269</td>\n",
       "    </tr>\n",
       "    <tr>\n",
       "      <th>5</th>\n",
       "      <td>7.221823</td>\n",
       "      <td>9.382673</td>\n",
       "      <td>7.441044</td>\n",
       "      <td>8.197256</td>\n",
       "      <td>7.612530</td>\n",
       "      <td>8.150853</td>\n",
       "      <td>8.447597</td>\n",
       "      <td>7.236896</td>\n",
       "      <td>7.521326</td>\n",
       "      <td>8.070382</td>\n",
       "      <td>...</td>\n",
       "      <td>9.350490</td>\n",
       "      <td>7.826368</td>\n",
       "      <td>8.221280</td>\n",
       "      <td>8.310481</td>\n",
       "      <td>8.119152</td>\n",
       "      <td>8.268594</td>\n",
       "      <td>7.263294</td>\n",
       "      <td>7.076059</td>\n",
       "      <td>7.856648</td>\n",
       "      <td>7.611844</td>\n",
       "    </tr>\n",
       "  </tbody>\n",
       "</table>\n",
       "<p>5 rows × 146 columns</p>\n",
       "</div>"
      ],
      "text/plain": [
       "     GSM627071   GSM627072   GSM627073    GSM627074   GSM627075    GSM627076  \\\n",
       "1   179.823156  159.980250  159.900207   113.358519  145.801020   123.598892   \n",
       "2   118.483553  135.384522  133.069673   133.848207   96.860396   133.630730   \n",
       "3  1185.853438  827.135570  894.275164  1717.030558  798.728842  1142.722987   \n",
       "4   133.932196  161.661239  140.230951   181.777396  173.557392   164.405186   \n",
       "5     7.221823    9.382673    7.441044     8.197256    7.612530     8.150853   \n",
       "\n",
       "     GSM627077   GSM627078    GSM627079    GSM627080  ...   GSM627207  \\\n",
       "1   127.311506  138.562495   108.829661   115.806386  ...  175.130797   \n",
       "2   184.483375  126.209001   150.132551   144.544510  ...  157.034746   \n",
       "3  1649.839537  892.953352  2597.377511  1303.802833  ...  632.624667   \n",
       "4   102.953995  132.233417   126.479521   139.817778  ...  161.346783   \n",
       "5     8.447597    7.236896     7.521326     8.070382  ...    9.350490   \n",
       "\n",
       "    GSM627208   GSM627209    GSM627210   GSM627211    GSM627212    GSM627213  \\\n",
       "1  165.279960  148.725478   175.329750  182.891599   200.367124   127.014641   \n",
       "2  164.833309  104.826016   134.934551   87.549316   154.376570   159.417588   \n",
       "3  680.701274  689.403112  1251.298263  528.720700  1372.242748  1580.362716   \n",
       "4  188.225463  131.281608   201.647960  184.447190   175.731743   118.558476   \n",
       "5    7.826368    8.221280     8.310481    8.119152     8.268594     7.263294   \n",
       "\n",
       "    GSM627214    GSM627215   GSM627216  \n",
       "1  165.081884   133.748138  129.633430  \n",
       "2  146.917862   166.439033  155.005328  \n",
       "3  786.122864  1048.782643  980.403619  \n",
       "4  123.848621   145.898071  160.927269  \n",
       "5    7.076059     7.856648    7.611844  \n",
       "\n",
       "[5 rows x 146 columns]"
      ]
     },
     "execution_count": 64,
     "metadata": {},
     "output_type": "execute_result"
    }
   ],
   "source": [
    "df.head()"
   ]
  },
  {
   "cell_type": "code",
   "execution_count": 65,
   "id": "78e0dc4a",
   "metadata": {},
   "outputs": [
    {
     "data": {
      "text/html": [
       "<div>\n",
       "<style scoped>\n",
       "    .dataframe tbody tr th:only-of-type {\n",
       "        vertical-align: middle;\n",
       "    }\n",
       "\n",
       "    .dataframe tbody tr th {\n",
       "        vertical-align: top;\n",
       "    }\n",
       "\n",
       "    .dataframe thead th {\n",
       "        text-align: right;\n",
       "    }\n",
       "</style>\n",
       "<table border=\"1\" class=\"dataframe\">\n",
       "  <thead>\n",
       "    <tr style=\"text-align: right;\">\n",
       "      <th></th>\n",
       "      <th>PC1</th>\n",
       "      <th>PC2</th>\n",
       "      <th>PC3</th>\n",
       "    </tr>\n",
       "  </thead>\n",
       "  <tbody>\n",
       "    <tr>\n",
       "      <th>0</th>\n",
       "      <td>-1.161425</td>\n",
       "      <td>0.161842</td>\n",
       "      <td>0.075765</td>\n",
       "    </tr>\n",
       "    <tr>\n",
       "      <th>1</th>\n",
       "      <td>-1.176310</td>\n",
       "      <td>-0.086592</td>\n",
       "      <td>0.018390</td>\n",
       "    </tr>\n",
       "    <tr>\n",
       "      <th>2</th>\n",
       "      <td>12.502860</td>\n",
       "      <td>-3.329120</td>\n",
       "      <td>-1.364729</td>\n",
       "    </tr>\n",
       "    <tr>\n",
       "      <th>3</th>\n",
       "      <td>-1.093062</td>\n",
       "      <td>0.062300</td>\n",
       "      <td>-0.030846</td>\n",
       "    </tr>\n",
       "    <tr>\n",
       "      <th>4</th>\n",
       "      <td>-2.885350</td>\n",
       "      <td>0.051468</td>\n",
       "      <td>0.010971</td>\n",
       "    </tr>\n",
       "    <tr>\n",
       "      <th>...</th>\n",
       "      <td>...</td>\n",
       "      <td>...</td>\n",
       "      <td>...</td>\n",
       "    </tr>\n",
       "    <tr>\n",
       "      <th>54608</th>\n",
       "      <td>7.520285</td>\n",
       "      <td>-2.328294</td>\n",
       "      <td>-0.615280</td>\n",
       "    </tr>\n",
       "    <tr>\n",
       "      <th>54609</th>\n",
       "      <td>-2.728815</td>\n",
       "      <td>0.045995</td>\n",
       "      <td>0.013135</td>\n",
       "    </tr>\n",
       "    <tr>\n",
       "      <th>54610</th>\n",
       "      <td>-2.422775</td>\n",
       "      <td>0.024771</td>\n",
       "      <td>0.012196</td>\n",
       "    </tr>\n",
       "    <tr>\n",
       "      <th>54611</th>\n",
       "      <td>-1.785322</td>\n",
       "      <td>0.081704</td>\n",
       "      <td>-0.032520</td>\n",
       "    </tr>\n",
       "    <tr>\n",
       "      <th>54612</th>\n",
       "      <td>0.619141</td>\n",
       "      <td>-0.219013</td>\n",
       "      <td>-0.053310</td>\n",
       "    </tr>\n",
       "  </tbody>\n",
       "</table>\n",
       "<p>54613 rows × 3 columns</p>\n",
       "</div>"
      ],
      "text/plain": [
       "             PC1       PC2       PC3\n",
       "0      -1.161425  0.161842  0.075765\n",
       "1      -1.176310 -0.086592  0.018390\n",
       "2      12.502860 -3.329120 -1.364729\n",
       "3      -1.093062  0.062300 -0.030846\n",
       "4      -2.885350  0.051468  0.010971\n",
       "...          ...       ...       ...\n",
       "54608   7.520285 -2.328294 -0.615280\n",
       "54609  -2.728815  0.045995  0.013135\n",
       "54610  -2.422775  0.024771  0.012196\n",
       "54611  -1.785322  0.081704 -0.032520\n",
       "54612   0.619141 -0.219013 -0.053310\n",
       "\n",
       "[54613 rows x 3 columns]"
      ]
     },
     "execution_count": 65,
     "metadata": {},
     "output_type": "execute_result"
    }
   ],
   "source": [
    "from sklearn.preprocessing import StandardScaler\n",
    "from sklearn.decomposition import PCA\n",
    "\n",
    "scaler=StandardScaler()\n",
    "X=scaler.fit_transform(df)\n",
    "pca = PCA(n_components=3)\n",
    "\n",
    "pc = pca.fit_transform(X)\n",
    "\n",
    "df_pca = pd.DataFrame(data = pc, \n",
    "                  columns = ['PC1', 'PC2',\"PC3\"])\n",
    "\n",
    "df_pca"
   ]
  },
  {
   "cell_type": "markdown",
   "id": "7044e830",
   "metadata": {},
   "source": [
    "Datamız iki boyutuna indirgendi. Bizim datamız yüksek boyutlu olduğu(çok fazla öznitelik) için üç özniteliğe indirmemiz gerekti. Ne kadar öznitelik filtrelemesi yapmış olsa da optimum metod değildir. Datamızım boyutunu indirip daha rahat çalışmamımızı sağlar. "
   ]
  },
  {
   "cell_type": "markdown",
   "id": "f57012cc",
   "metadata": {},
   "source": [
    "### F Test Score"
   ]
  },
  {
   "cell_type": "code",
   "execution_count": 66,
   "id": "d727e6af",
   "metadata": {},
   "outputs": [],
   "source": [
    "df=df.values\n",
    "X = df[:, :-1]\n",
    "y = df[:,-1]"
   ]
  },
  {
   "cell_type": "code",
   "execution_count": 67,
   "id": "6c39c9ff",
   "metadata": {},
   "outputs": [],
   "source": [
    "from sklearn.model_selection import train_test_split\n",
    "X_train, X_test, y_train, y_test = train_test_split(X, y,\n",
    "                                         test_size=0.33, random_state=1)"
   ]
  },
  {
   "cell_type": "code",
   "execution_count": 68,
   "id": "27fa2917",
   "metadata": {},
   "outputs": [],
   "source": [
    "from sklearn.feature_selection import SelectKBest, f_classif"
   ]
  },
  {
   "cell_type": "code",
   "execution_count": 69,
   "id": "9b4f79de",
   "metadata": {},
   "outputs": [],
   "source": [
    "# configure to select all features\n",
    "fs = SelectKBest(score_func=f_classif, k='all')\n",
    "# learn relationship from training data\n",
    "fs.fit(X_train, y_train)\n",
    "# transform train input data\n",
    "X_train_fs = fs.transform(X_train)\n",
    "# transform test input data\n",
    "X_test_fs = fs.transform(X_test)"
   ]
  },
  {
   "cell_type": "code",
   "execution_count": 70,
   "id": "d95b8823",
   "metadata": {},
   "outputs": [
    {
     "data": {
      "image/png": "[encoded data removed]",
      "text/plain": [
       "<Figure size 432x288 with 1 Axes>"
      ]
     },
     "metadata": {
      "needs_background": "light"
     },
     "output_type": "display_data"
    }
   ],
   "source": [
    "# what are scores for the features\n",
    "from matplotlib import pyplot\n",
    "\n",
    "\n",
    "# plot the scores\n",
    "pyplot.bar([i for i in range(len(fs.scores_))], fs.scores_)\n",
    "pyplot.show()"
   ]
  },
  {
   "cell_type": "code",
   "execution_count": 71,
   "id": "94ecd629",
   "metadata": {
    "scrolled": true
   },
   "outputs": [
    {
     "name": "stdout",
     "output_type": "stream",
     "text": [
      "[42, 89, 124, 73, 119, 130, 18, 19, 106, 65, 63, 5, 82, 138, 23, 57, 99, 31, 93, 100]\n"
     ]
    }
   ],
   "source": [
    "import numpy as np\n",
    "ind = np.argpartition(fs.scores_, -20)[-20:]\n",
    "print(list(ind))"
   ]
  },
  {
   "cell_type": "code",
   "execution_count": 81,
   "id": "98539f31",
   "metadata": {},
   "outputs": [],
   "source": [
    "bad_ind = np.argpartition(fs.scores_, 20)[20:]\n",
    "\n",
    "dff_bad=df.iloc[:,list(bad_ind)]"
   ]
  },
  {
   "cell_type": "markdown",
   "id": "13e986b9",
   "metadata": {},
   "source": [
    "F değeri yüksek olan sütunlar bizim modeller için daha faydalı istenirse daha fazla değer de alınabilir."
   ]
  },
  {
   "cell_type": "code",
   "execution_count": 72,
   "id": "53da4d8f",
   "metadata": {},
   "outputs": [
    {
     "name": "stderr",
     "output_type": "stream",
     "text": [
      "C:\\Users\\90551\\AppData\\Local\\Temp\\ipykernel_9740\\1932217005.py:2: DtypeWarning: Columns (1,2,3,4,5,6,7,8,9,10,11,12,13,14,15,16,17,18,19,20,21,22,23,24,25,26,27,28,29,30,31,32,33,34,35,36,37,38,39,40,41,42,43,44,45,46,47,48,49,50,51,52,53,54,55,56,57,58,59,60,61,62,63,64,65,66,67,68,69,70,71,72,73,74,75,76,77,78,79,80,81,82,83,84,85,86,87,88,89,90,91,92,93,94,95,96,97,98,99,100,101,102,103,104,105,106,107,108,109,110,111,112,113,114,115,116,117,118,119,120,121,122,123,124,125,126,127,128,129,130,131,132,133,134,135,136,137,138,139,140,141,142,143,144,145,146) have mixed types. Specify dtype option on import or set low_memory=False.\n",
      "  df = pd.read_csv('assignment.txt', sep=\"\\t\", header=None)\n"
     ]
    }
   ],
   "source": [
    "\n",
    "import pandas as pd\n",
    "df = pd.read_csv('assignment.txt', sep=\"\\t\", header=None)\n",
    "df.columns=list(df.loc[0,:])\n",
    "\n",
    "cols=list(df.columns)\n",
    "df=df.drop(0)\n",
    "df=df.iloc[:,1:].astype(float)"
   ]
  },
  {
   "cell_type": "code",
   "execution_count": 73,
   "id": "9d784cb7",
   "metadata": {},
   "outputs": [],
   "source": [
    "dff=df.iloc[:,list(ind)]"
   ]
  },
  {
   "cell_type": "markdown",
   "id": "7704b0f7",
   "metadata": {},
   "source": [
    "Datamıza ANOVA F testi uyguladık. En yüksek 20 sütunu modelimiz için seçtik. Bu sütunlar ..."
   ]
  },
  {
   "cell_type": "code",
   "execution_count": 74,
   "id": "a76d7a61",
   "metadata": {},
   "outputs": [
    {
     "name": "stdout",
     "output_type": "stream",
     "text": [
      "['GSM627113', 'GSM627160', 'GSM627195', 'GSM627144', 'GSM627190', 'GSM627201', 'GSM627089', 'GSM627090', 'GSM627177', 'GSM627136', 'GSM627134', 'GSM627076', 'GSM627153', 'GSM627209', 'GSM627094', 'GSM627128', 'GSM627170', 'GSM627102', 'GSM627164', 'GSM627171']\n"
     ]
    }
   ],
   "source": [
    "print(list(dff.columns))"
   ]
  },
  {
   "cell_type": "markdown",
   "id": "b2c07f3a",
   "metadata": {},
   "source": [
    "###  VIF Metodu"
   ]
  },
  {
   "cell_type": "code",
   "execution_count": 89,
   "id": "02583a8e",
   "metadata": {},
   "outputs": [],
   "source": [
    "# load statmodels functions\n",
    "from statsmodels.stats.outliers_influence import variance_inflation_factor\n",
    "from statsmodels.tools.tools import add_constant\n",
    "\n",
    "# compute the vif for all given features\n",
    "def compute_vif(considered_features):\n",
    "    \n",
    "    X = dff_bad[considered_features]\n",
    "    # the calculation of variance inflation requires a constant\n",
    "    X['intercept'] = 1\n",
    "    \n",
    "    # create dataframe to store vif values\n",
    "    vif = pd.DataFrame()\n",
    "    vif[\"Variable\"] = X.columns\n",
    "    vif[\"VIF\"] = [variance_inflation_factor(X.values, i) for i in range(X.shape[1])]\n",
    "    vif = vif[vif['Variable']!='intercept']\n",
    "    return vif"
   ]
  },
  {
   "cell_type": "code",
   "execution_count": 91,
   "id": "dc03fe0e",
   "metadata": {},
   "outputs": [],
   "source": [
    "# For each X, calculate VIF and save in dataframe\n",
    "vif = pd.DataFrame()\n",
    "vif[\"VIF Factor\"] = [variance_inflation_factor(dff_bad.values, i) for i in range(dff_bad.shape[1])]\n",
    "vif[\"features\"] = dff_bad.columns"
   ]
  },
  {
   "cell_type": "code",
   "execution_count": 93,
   "id": "85dc52e6",
   "metadata": {},
   "outputs": [
    {
     "data": {
      "text/plain": [
       "VIF Factor    75.626811\n",
       "features      GSM627071\n",
       "dtype: object"
      ]
     },
     "execution_count": 93,
     "metadata": {},
     "output_type": "execute_result"
    }
   ],
   "source": [
    "vif.min()"
   ]
  },
  {
   "cell_type": "markdown",
   "id": "b4dd0dce",
   "metadata": {},
   "source": [
    " Vif değeri 5 ile 10 arasında olan öznitelikler multikolineariteyi gösteri. Modelimize baktığımızda en küçük değerin bile 75 olduğunu görürüz. Yani kolinearite mevcut değil öznitelik elemesi yapmamıza gerek yoktur."
   ]
  },
  {
   "cell_type": "markdown",
   "id": "027e4578",
   "metadata": {},
   "source": [
    "#### Korelasyon Methodu"
   ]
  },
  {
   "cell_type": "markdown",
   "id": "59aa8777",
   "metadata": {},
   "source": [
    "Şimdi korelasyon matrisi filre metodu ile korelasyonu yüksek ve düşük sütunları bulmak için deneyelim."
   ]
  },
  {
   "cell_type": "code",
   "execution_count": 96,
   "id": "8dfb816f",
   "metadata": {},
   "outputs": [
    {
     "name": "stderr",
     "output_type": "stream",
     "text": [
      "C:\\Users\\90551\\AppData\\Local\\Temp\\ipykernel_9740\\2448657878.py:2: DtypeWarning: Columns (1,2,3,4,5,6,7,8,9,10,11,12,13,14,15,16,17,18,19,20,21,22,23,24,25,26,27,28,29,30,31,32,33,34,35,36,37,38,39,40,41,42,43,44,45,46,47,48,49,50,51,52,53,54,55,56,57,58,59,60,61,62,63,64,65,66,67,68,69,70,71,72,73,74,75,76,77,78,79,80,81,82,83,84,85,86,87,88,89,90,91,92,93,94,95,96,97,98,99,100,101,102,103,104,105,106,107,108,109,110,111,112,113,114,115,116,117,118,119,120,121,122,123,124,125,126,127,128,129,130,131,132,133,134,135,136,137,138,139,140,141,142,143,144,145,146) have mixed types. Specify dtype option on import or set low_memory=False.\n",
      "  df = pd.read_csv('assignment.txt', sep=\"\\t\", header=None)\n"
     ]
    }
   ],
   "source": [
    "import pandas as pd\n",
    "df = pd.read_csv('assignment.txt', sep=\"\\t\", header=None)\n",
    "df.columns=list(df.loc[0,:])\n",
    "\n",
    "cols=list(df.columns)\n",
    "df=df.drop(0)\n",
    "df=df.iloc[:,1:].astype(float)"
   ]
  },
  {
   "cell_type": "code",
   "execution_count": 98,
   "id": "f9e102a0",
   "metadata": {},
   "outputs": [
    {
     "data": {
      "image/png": "[encoded data removed]",
      "text/plain": [
       "<Figure size 432x288 with 2 Axes>"
      ]
     },
     "metadata": {
      "needs_background": "light"
     },
     "output_type": "display_data"
    }
   ],
   "source": [
    "\n",
    "import seaborn as sns\n",
    "import matplotlib.pyplot as plt\n",
    "sns.heatmap(df.corr())\n",
    "plt.show()"
   ]
  },
  {
   "cell_type": "markdown",
   "id": "4192196e",
   "metadata": {},
   "source": [
    "Şimdi korelasyon yöntemini deneyelim. Bu yöntemde korelasyonu yüksek çıkan öznitelikleri atmamız gerekiyor."
   ]
  },
  {
   "cell_type": "code",
   "execution_count": 99,
   "id": "5e53a114",
   "metadata": {},
   "outputs": [
    {
     "name": "stdout",
     "output_type": "stream",
     "text": [
      "['GSM627072', 'GSM627073', 'GSM627074', 'GSM627076', 'GSM627077', 'GSM627078', 'GSM627079', 'GSM627080', 'GSM627081', 'GSM627082', 'GSM627083', 'GSM627084', 'GSM627085', 'GSM627086', 'GSM627087', 'GSM627088', 'GSM627089', 'GSM627090', 'GSM627091', 'GSM627092', 'GSM627093', 'GSM627094', 'GSM627095', 'GSM627096', 'GSM627097', 'GSM627098', 'GSM627099', 'GSM627100', 'GSM627101', 'GSM627102', 'GSM627103', 'GSM627104', 'GSM627105', 'GSM627106', 'GSM627107', 'GSM627108', 'GSM627109', 'GSM627110', 'GSM627111', 'GSM627112', 'GSM627113', 'GSM627114', 'GSM627115', 'GSM627116', 'GSM627117', 'GSM627118', 'GSM627119', 'GSM627120', 'GSM627121', 'GSM627122', 'GSM627123', 'GSM627124', 'GSM627125', 'GSM627126', 'GSM627127', 'GSM627128', 'GSM627129', 'GSM627130', 'GSM627131', 'GSM627132', 'GSM627133', 'GSM627134', 'GSM627135', 'GSM627136', 'GSM627137', 'GSM627138', 'GSM627139', 'GSM627140', 'GSM627141', 'GSM627142', 'GSM627143', 'GSM627144', 'GSM627145', 'GSM627146', 'GSM627147', 'GSM627148', 'GSM627149', 'GSM627150', 'GSM627151', 'GSM627152', 'GSM627153', 'GSM627154', 'GSM627155', 'GSM627156', 'GSM627157', 'GSM627158', 'GSM627159', 'GSM627160', 'GSM627161', 'GSM627162', 'GSM627163', 'GSM627164', 'GSM627165', 'GSM627166', 'GSM627167', 'GSM627168', 'GSM627169', 'GSM627170', 'GSM627171', 'GSM627172', 'GSM627173', 'GSM627174', 'GSM627175', 'GSM627176', 'GSM627177', 'GSM627178', 'GSM627179', 'GSM627180', 'GSM627181', 'GSM627182', 'GSM627183', 'GSM627184', 'GSM627185', 'GSM627186', 'GSM627187', 'GSM627188', 'GSM627189', 'GSM627190', 'GSM627191', 'GSM627192', 'GSM627193', 'GSM627194', 'GSM627195', 'GSM627196', 'GSM627197', 'GSM627198', 'GSM627199', 'GSM627200', 'GSM627201', 'GSM627202', 'GSM627203', 'GSM627204', 'GSM627205', 'GSM627206', 'GSM627207', 'GSM627208', 'GSM627209', 'GSM627210', 'GSM627211', 'GSM627212', 'GSM627213', 'GSM627214', 'GSM627215', 'GSM627216']\n"
     ]
    },
    {
     "name": "stderr",
     "output_type": "stream",
     "text": [
      "C:\\Users\\90551\\AppData\\Local\\Temp\\ipykernel_9740\\3143224912.py:2: DeprecationWarning: `np.bool` is a deprecated alias for the builtin `bool`. To silence this warning, use `bool` by itself. Doing this will not modify any behavior and is safe. If you specifically wanted the numpy scalar type, use `np.bool_` here.\n",
      "Deprecated in NumPy 1.20; for more details and guidance: https://numpy.org/devdocs/release/1.20.0-notes.html#deprecations\n",
      "  upper_tri = cor_matrix.where(np.triu(np.ones(cor_matrix.shape),k=1).astype(np.bool))\n"
     ]
    }
   ],
   "source": [
    "cor_matrix = df.corr().abs()\n",
    "upper_tri = cor_matrix.where(np.triu(np.ones(cor_matrix.shape),k=1).astype(np.bool))\n",
    "to_drop = [column for column in upper_tri.columns if any(upper_tri[column] > 0.95)]\n",
    "print(to_drop)"
   ]
  },
  {
   "cell_type": "markdown",
   "id": "75a81e7d",
   "metadata": {},
   "source": [
    "Listelenen sütunlar yüksek korelasyona sahip modelimizi hızlandırmak için bu sütunları düşürmemiz gerek."
   ]
  },
  {
   "cell_type": "code",
   "execution_count": null,
   "id": "80f6ad81",
   "metadata": {},
   "outputs": [],
   "source": []
  }
 ],
 "metadata": {
  "kernelspec": {
   "display_name": "Python 3",
   "language": "python",
   "name": "python3"
  },
  "language_info": {
   "codemirror_mode": {
    "name": "ipython",
    "version": 3
   },
   "file_extension": ".py",
   "mimetype": "text/x-python",
   "name": "python",
   "nbconvert_exporter": "python",
   "pygments_lexer": "ipython3",
   "version": "3.8.13"
  }
 },
 "nbformat": 4,
 "nbformat_minor": 5
}
